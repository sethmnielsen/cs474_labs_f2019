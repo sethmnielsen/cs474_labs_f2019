{
 "cells": [
  {
   "cell_type": "markdown",
   "metadata": {},
   "source": [
    "<a href=\"https://colab.research.google.com/github/sethmnielsen/cs474_labs_f2019/blob/master/DL_Lab4.ipynb\" target=\"_parent\"><img src=\"https://colab.research.google.com/assets/colab-badge.svg\" alt=\"Open In Colab\"/></a>"
   ]
  },
  {
   "cell_type": "markdown",
   "metadata": {
    "colab_type": "text",
    "id": "view-in-github"
   },
   "source": [
    "# Lab 4: Cancer Detection\n",
    "\n",
    "## Objective\n",
    "* To build a dense prediction model\n",
    "* To begin reading current papers in DNN research\n",
    "\n",
    "## Deliverable\n",
    "For this lab, you will turn in a notebook that describes your efforts at creating\n",
    "a pytorch radiologist. Your final deliverable is a notebook that has (1) deep network,\n",
    "(2) cost function, (3) method of calculating accuracy,\n",
    "(4) an image that shows the dense prediction produced by your network on the pos_test_000072.png image.\n",
    "This is an image in the test set that your network will not have seen before.\n",
    "This image, and the ground truth labeling, is shown below.\n",
    "(And is contained in the downloadable dataset below).\n",
    "\n",
    "![](http://liftothers.org/dokuwiki/lib/exe/fetch.php?w=200&tok=a8ac31&media=cs501r_f2016:pos_test_000072_output.png)\n",
    "<img src=\"http://liftothers.org/dokuwiki/lib/exe/fetch.php?media=cs501r_f2016:pos_test_000072.png\" width=\"200\">\n",
    "\n",
    "\n",
    "## Grading standards\n",
    "Your notebook will be graded on the following:\n",
    "* 40% Proper design, creation and debugging of a dense prediction network\n",
    "* 40% Proper implementation of a loss function and train/test set accuracy measure\n",
    "* 10% Tidy visualizations of loss of your dense predictor during training\n",
    "* 10% Test image output\n",
    "\n",
    "\n",
    "## Data set\n",
    "The data is given as a set of 1024×1024 PNG images. Each input image (in \n",
    "the ```inputs``` directory) is an RGB image of a section of tissue,\n",
    "and there a file with the same name (in the ```outputs``` directory) \n",
    "that has a dense labeling of whether or not a section of tissue is cancerous\n",
    "(white pixels mean “cancerous”, while black pixels mean “not cancerous”).\n",
    "\n",
    "The data has been pre-split for you into test and training splits.\n",
    "Filenames also reflect whether or not the image has any cancer at all \n",
    "(files starting with ```pos_``` have some cancerous pixels, while files \n",
    "starting with ```neg_``` have no cancer anywhere).\n",
    "All of the data is hand-labeled, so the dataset is not very large.\n",
    "That means that overfitting is a real possibility.\n",
    "\n",
    "## Description\n",
    "For a video including some tips and tricks that can help with this lab: [https://youtu.be/Ms19kgK_D8w](https://youtu.be/Ms19kgK_D8w)\n",
    "For this lab, you will implement a virtual radiologist.\n",
    "You are given images of possibly cancerous tissue samples, \n",
    "and you must build a detector that identifies where in the tissue cancer may reside.\n",
    "\n",
    "---\n",
    "\n",
    "### Part 0\n",
    "Watch and follow video tutorial:\n",
    "\n",
    "https://youtu.be/Ms19kgK_D8w\n",
    "\n",
    "**TODO:**\n",
    "\n",
    "* Watch tutorial\n",
    "\n",
    "**DONE:**\n",
    "\n",
    "### Part 1\n",
    "Implement a dense predictor\n",
    "\n",
    "In previous labs and lectures, we have talked about DNNs that classify an \n",
    "entire image as a single class. Here, however, we are interested in a more nuanced classification: \n",
    "given an input image, we would like to identify each pixel that is possibly cancerous. \n",
    "That means that instead of a single output, your network should output an “image”, \n",
    "where each output pixel of your network represents the probability that a pixel is cancerous.\n",
    "\n",
    "**TODO:**\n",
    "\n",
    "* Create a Network that classifies each pixel as a 1 or 0 for cancerous / not cancerous\n",
    "\n",
    "**DONE:**\n",
    "\n",
    "___\n",
    "\n",
    "### Part 1a\n",
    "Implement your network topology\n",
    "\n",
    "\n",
    "Use the “Deep Convolution U-Net” from this paper: [(U-Net: Convolutional Networks for Biomedical Image Segmentation)](https://arxiv.org/pdf/1505.04597.pdf) \n",
    "\n",
    "![(Figure 1)](https://lh3.googleusercontent.com/qnHiB3B2KRxC3NjiSDtY08_DgDGTDsHcO6PP53oNRuct-p2QXCR-gyLkDveO850F2tTAhIOPC5Ha06NP9xq1JPsVAHlQ5UXA5V-9zkUrJHGhP_MNHFoRGnjBz1vn1p8P2rMWhlAb6HQ=w2400)\n",
    "\n",
    "You should use existing pytorch functions (not your own Conv2D module), such as ```nn.Conv2d```;\n",
    "you will also need the pytorch function ```torch.cat``` and ```nn.ConvTranspose2d```\n",
    "\n",
    "```torch.cat``` allows you to concatenate tensors.\n",
    "```nn.ConvTranspose2d``` is the opposite of ```nn.Conv2d```.\n",
    "It is used to bring an image from low res to higher res.\n",
    "[This blog](https://towardsdatascience.com/up-sampling-with-transposed-convolution-9ae4f2df52d0) should help you understand this function in detail.\n",
    "\n",
    "Note that the simplest network you could implement (with all the desired properties)\n",
    "is just a single convolution layer with two filters and no relu! \n",
    "Why is that? (of course it wouldn't work very well!)\n",
    "\n",
    "**TODO:**\n",
    "\n",
    "* Understand the U-Net architecture\n",
    "* Understand concatenation of inputs from multiple prior layers\n",
    "* Understand ConvTranspose\n",
    "* Answer Question / Reflect on simplest network with the desired properties\n",
    "\n",
    "**DONE:**\n",
    "\n",
    "\n",
    "___\n",
    "The intention of this lab is to learn how to make deep neural nets and implement loss function.\n",
    "Therefore we'll help you with the implementation of Dataset.\n",
    "This code will download the dataset for you so that you are ready to use it and focus on network\n",
    "implementation, losses and accuracies."
   ]
  },
  {
   "cell_type": "code",
   "execution_count": null,
   "metadata": {
    "colab": {},
    "colab_type": "code",
    "collapsed": true,
    "id": "wQOefmcZVgTl",
    "pycharm": {
     "is_executing": false
    }
   },
   "outputs": [],
   "source": [
    "!pip3 install torch\n",
    "!pip3 install torchvision\n",
    "!pip3 install tqdm\n",
    "\n",
    "import torch\n",
    "import torch.nn as nn\n",
    "import torch.nn.functional as F\n",
    "import torch.optim as optim\n",
    "from torch.utils.data import Dataset, DataLoader\n",
    "import numpy as np\n",
    "import matplotlib.pyplot as plt\n",
    "from torchvision import transforms, utils, datasets\n",
    "from tqdm import tqdm\n",
    "from torch.nn.parameter import Parameter\n",
    "import pdb\n",
    "import torchvision\n",
    "import os\n",
    "import gzip\n",
    "import tarfile\n",
    "import gc\n",
    "from IPython.core.ultratb import AutoFormattedTB\n",
    "__ITB__ = AutoFormattedTB(mode = 'Verbose',color_scheme='LightBg', tb_offset = 1)\n",
    "\n",
    "assert torch.cuda.is_available(), \"You need to request a GPU from Runtime > Change Runtime\""
   ]
  },
  {
   "cell_type": "code",
   "execution_count": null,
   "metadata": {
    "colab": {},
    "colab_type": "code",
    "collapsed": true,
    "id": "Il_53HLSWPTY"
   },
   "outputs": [],
   "source": [
    "class CancerDataset(Dataset):\n",
    "  def __init__(self, root, download=True, size=512, train=True):\n",
    "    if download and not os.path.exists(os.path.join(root, 'cancer_data')):\n",
    "      datasets.utils.download_url('http://liftothers.org/cancer_data.tar.gz', root, 'cancer_data.tar.gz', None)\n",
    "      self.extract_gzip(os.path.join(root, 'cancer_data.tar.gz'))\n",
    "      self.extract_tar(os.path.join(root, 'cancer_data.tar'))\n",
    "    \n",
    "    postfix = 'train' if train else 'test'\n",
    "    root = os.path.join(root, 'cancer_data', 'cancer_data')\n",
    "    self.dataset_folder = torchvision.datasets.ImageFolder(os.path.join(root, 'inputs_' + postfix) ,transform = transforms.Compose([transforms.Resize(size),transforms.ToTensor()]))\n",
    "    self.label_folder = torchvision.datasets.ImageFolder(os.path.join(root, 'outputs_' + postfix) ,transform = transforms.Compose([transforms.Resize(size),transforms.ToTensor()]))\n",
    "\n",
    "  @staticmethod\n",
    "  def extract_gzip(gzip_path, remove_finished=False):\n",
    "    print('Extracting {}'.format(gzip_path))\n",
    "    with open(gzip_path.replace('.gz', ''), 'wb') as out_f, gzip.GzipFile(gzip_path) as zip_f:\n",
    "      out_f.write(zip_f.read())\n",
    "    if remove_finished:\n",
    "      os.unlink(gzip_path)\n",
    "  \n",
    "  @staticmethod\n",
    "  def extract_tar(tar_path):\n",
    "    print('Untarring {}'.format(tar_path))\n",
    "    z = tarfile.TarFile(tar_path)\n",
    "    z.extractall(tar_path.replace('.tar', ''))\n",
    "\n",
    "  def __getitem__(self,index):\n",
    "    img = self.dataset_folder[index]\n",
    "    label = self.label_folder[index]\n",
    "    return img[0],label[0][0]\n",
    "  \n",
    "  def __len__(self):\n",
    "    return len(self.dataset_folder)"
   ]
  },
  {
   "cell_type": "markdown",
   "metadata": {
    "colab_type": "text",
    "id": "QY4owfQwm-Ni"
   },
   "source": [
    "___\n",
    "\n",
    "### Part 1b\n",
    "Implement a cost function\n",
    "\n",
    "You should still use cross-entropy as your cost function, but you may need to think hard about how exactly to set this up – your network should output cancer/not-cancer probabilities for each pixel, which can be viewed as a two-class classification problem.\n",
    "\n",
    "**TODO:**\n",
    "\n",
    "* Adapt CrossEntropyLoss for 2 class pixel classification\n",
    "\n",
    "**DONE:**\n",
    "\n"
   ]
  },
  {
   "cell_type": "code",
   "execution_count": null,
   "metadata": {
    "colab": {},
    "colab_type": "code",
    "collapsed": true,
    "id": "XPgrP88aOtfy"
   },
   "outputs": [],
   "source": [
    "# You'll probably want a function or something to test input / output sizes of the ConvTranspose2d layer\n"
   ]
  },
  {
   "cell_type": "code",
   "execution_count": null,
   "metadata": {
    "colab": {},
    "colab_type": "code",
    "collapsed": true,
    "id": "jq22IyKanxo_"
   },
   "outputs": [],
   "source": [
    "# Since you will be using the output of one network in two places(convolution and maxpooling),\n",
    "# you can't use nn.Sequential.\n",
    "# Instead you will write up the network like normal variable assignment as the example shown below:\n",
    "# You are welcome (and encouraged) to use the built-in batch normalization and dropout layer.\n",
    "\n",
    "# TODO: You need to change this to fit the UNet structure!!!\n",
    "class CancerDetection(nn.Module):\n",
    "  def __init__(self):\n",
    "    super(CancerDetection, self).__init__()\n",
    "    self.conv1 = nn.Conv2d(3,64,kernel_size = 3, stride = 1, padding = 1)\n",
    "    self.relu2 = nn.ReLU()\n",
    "    self.conv3 = nn.Conv2d(64,128,kernel_size = 3, stride = 1, padding = 1)\n",
    "    self.relu4 = nn.ReLU()\n",
    " \n",
    "  def forward(self, input):\n",
    "    conv1_out = self.conv1(input)\n",
    "    relu2_out = self.relu2(conv1_out)\n",
    "    conv3_out = self.conv3(relu2_out)\n",
    "    relu4_out = self.relu4(conv3_out) \n",
    "    return relu4_out\n"
   ]
  },
  {
   "cell_type": "code",
   "execution_count": null,
   "metadata": {
    "colab": {
     "base_uri": "https://localhost:8080/",
     "height": 53
    },
    "colab_type": "code",
    "collapsed": true,
    "id": "NAjagHCdGNAh",
    "outputId": "64ce2cd5-ae53-4e76-d088-0105f7e27681"
   },
   "outputs": [],
   "source": [
    "# Create your datasets and neural network as you have before\n"
   ]
  },
  {
   "cell_type": "code",
   "execution_count": null,
   "metadata": {
    "colab": {
     "base_uri": "https://localhost:8080/",
     "height": 1000
    },
    "colab_type": "code",
    "collapsed": true,
    "id": "RkieTbwlYWPS",
    "outputId": "6ec22dc3-3318-4f8c-843d-eb01aecaf8fe"
   },
   "outputs": [],
   "source": [
    "# This is what was talked about in the video for memory management\n",
    "\n",
    "def scope():\n",
    "  try:\n",
    "    #your code for calling dataset and dataloader\n",
    "    gc.collect()\n",
    "    print(torch.cuda.memory_allocated(0) / 1e9)\n",
    "    \n",
    "    #for epochs:\n",
    "    # Call your model, figure out loss and accuracy\n",
    "    \n",
    "  except:\n",
    "    __ITB__()\n",
    "    \n",
    "scope()\n"
   ]
  },
  {
   "cell_type": "markdown",
   "metadata": {
    "colab_type": "text",
    "id": "CZ062Jv1jIIu"
   },
   "source": [
    "\n",
    "___\n",
    "\n",
    "### Part 2\n",
    "\n",
    "Plot performance over time\n",
    "\n",
    "Please generate a plot that shows loss on the training set as a function of training time. Make sure your axes are labeled!\n",
    "\n",
    "**TODO:**\n",
    "\n",
    "* Plot training loss as function of training time (not Epochs)\n",
    "\n",
    "**DONE:**\n"
   ]
  },
  {
   "cell_type": "code",
   "execution_count": null,
   "metadata": {
    "colab": {
     "base_uri": "https://localhost:8080/",
     "height": 17
    },
    "colab_type": "code",
    "collapsed": true,
    "id": "mTg1jyIsYVZN",
    "outputId": "e7453643-0ebf-4304-bf08-203d6f435736"
   },
   "outputs": [],
   "source": [
    "# Your plotting code here\n"
   ]
  },
  {
   "cell_type": "markdown",
   "metadata": {
    "colab_type": "text",
    "id": "S4s92S2_jQOG"
   },
   "source": [
    "___\n",
    "\n",
    "### Part 3\n",
    "\n",
    "Generate a prediction on the pos_test_000072.png image\n",
    "\n",
    "Calculate the output of your trained network on the pos_test_000072.png image,\n",
    "then make a hard decision (cancerous/not-cancerous) for each pixel.\n",
    "The resulting image should be black-and-white, where white pixels represent things\n",
    "you think are probably cancerous.\n",
    "\n",
    "**TODO:**\n",
    "\n",
    "**DONE:**\n",
    "\n",
    "**NOTE:**\n",
    "\n",
    "Guessing that the pixel is not cancerous every single time will give you an accuracy of ~ 85%.\n",
    "Your trained network should be able to do better than that (but you will not be graded on accuracy).\n",
    "This is the result I got after 1 hour or training.\n",
    "\n",
    "![](http://liftothers.org/dokuwiki/lib/exe/fetch.php?w=400&tok=d23e0b&media=cs501r_f2016:training_accuracy.png)\n",
    "![](http://liftothers.org/dokuwiki/lib/exe/fetch.php?w=400&tok=bb8e3c&media=cs501r_f2016:training_loss.png)"
   ]
  },
  {
   "cell_type": "code",
   "execution_count": null,
   "metadata": {
    "colab": {
     "base_uri": "https://localhost:8080/",
     "height": 35
    },
    "colab_type": "code",
    "collapsed": true,
    "id": "XXfG3wClh8an",
    "outputId": "a616216f-6637-495e-c596-4fc989677d80",
    "pycharm": {
     "is_executing": false
    }
   },
   "outputs": [],
   "source": [
    "# Code for testing prediction on an image\n"
   ]
  }
 ],
 "metadata": {
  "accelerator": "GPU",
  "colab": {
   "collapsed_sections": [],
   "include_colab_link": true,
   "name": "DL_Lab4.ipynb",
   "provenance": [],
   "version": "0.3.2"
  },
  "kernelspec": {
   "display_name": "Python 3",
   "language": "python",
   "name": "python3"
  },
  "language_info": {
   "codemirror_mode": {
    "name": "ipython",
    "version": 3
   },
   "file_extension": ".py",
   "mimetype": "text/x-python",
   "name": "python",
   "nbconvert_exporter": "python",
   "pygments_lexer": "ipython3",
   "version": "3.6.3"
  },
  "pycharm": {
   "stem_cell": {
    "cell_type": "raw",
    "metadata": {
     "collapsed": false
    },
    "source": []
   }
  }
 },
 "nbformat": 4,
 "nbformat_minor": 1
}
