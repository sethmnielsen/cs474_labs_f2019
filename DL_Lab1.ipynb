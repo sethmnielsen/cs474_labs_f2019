{
 "cells": [
  {
   "cell_type": "markdown",
   "metadata": {
    "colab_type": "text",
    "id": "view-in-github"
   },
   "source": [
    "<a href=\"https://colab.research.google.com/github/sethmnielsen/cs474_labs_f2019/blob/master/DL_Lab1.ipynb\" target=\"_parent\"><img src=\"https://colab.research.google.com/assets/colab-badge.svg\" alt=\"Open In Colab\"/></a>"
   ]
  },
  {
   "cell_type": "markdown",
   "metadata": {
    "colab_type": "text",
    "id": "bkj1_ftQtuBk"
   },
   "source": [
    "# Lab 1: Getting Started\n",
    "\n",
    "## Objective  \n",
    "Get started with colab and python. Begin producing simple visualizations of data and images.\n",
    "\n",
    "## Deliverable\n",
    "For this lab, you will submit a colab notebook via Learning Suite. This notebook consists of two parts.\n",
    "\n",
    "___\n",
    "\n",
    "### Grading\n",
    "Your notebook will be graded on the following:\n",
    "* 20% Successfully turning in a notebook with working code\n",
    "* 35% Random image with 50 random elements\n",
    "* 35% Image indicating tensorflow success\n",
    "* 10% Tidy and legible figures, (for the future make sure to label axes where appropriate)\n",
    "\n",
    "___\n",
    "\n",
    "### Details\n",
    "Throughout this class, we will be using Google's colab environment to \n",
    "develop and test our deep neural networks. \n",
    "This consists of ipython notebooks and a standardized python distribution. \n",
    "For this lab, you must create a google account (or use one you already have), \n",
    "start up colab, and write a simple python program in it.\n",
    "\n",
    "As described above, the notebook should do two things: \n",
    "1) generate simple random images, and \n",
    "2) display an image that you generate using the Tensorflow playground.\n",
    "\n",
    "For part 1, you can generate any sort of random image that you want – \n",
    "consider random lines, random curves, random text, etc. \n",
    "Each time the program is run, it should generate a different random image. \n",
    "Your image should have at least 50 random elements \n",
    "(they can all be the same type, such as random lines, and can be created in a loop). \n",
    "We won't count the number of elements; this is just to encourage you to create \n",
    "random images with moderate complexity (ie, you can't just generate randomly colored pixels, \n",
    "as in the example below).\n",
    "\n",
    "For part 2, you should visit the Tensorflow playground (see link above),\n",
    "and play with different settings. Most of it will be unfamiliar,\n",
    "but don't worry – you can't break it!\n",
    "\n",
    "Once you have a working classifier, take a screenshot. \n",
    "Then use your colab notebook to display that image in-line.\n",
    "___\n",
    "### Part 1\n",
    "\n",
    "Your notebook should generate a random image. We will run this notebook 5 times; it should generate 5 different, moderately complex images. Each image should be 512 x 288. Have fun with it!\n",
    "\n",
    "The resulting image could for example something like this:\n",
    "![](http://liftothers.org/dokuwiki/lib/exe/fetch.php?media=cs401r_w2016:lab1.png)\n",
    "\n",
    "**TODO:** // Here are the list of things to do for this part\n",
    "\n",
    "* Generate random images that are 512 x 288\n",
    "\n",
    "**DONE:** // Put items from the TODO list here when you are done with them (double click on the cell, cut and paste the line). This is for your benefit as well as the TAs to help with grading.\n"
   ]
  },
  {
   "cell_type": "code",
   "execution_count": 1,
   "metadata": {
    "colab": {
      "name": "DL_Lab1.ipynb",
      "version": "0.3.2",
      "provenance": [],
      "collapsed_sections": [],
      "include_colab_link": true
    },
    "kernelspec": {
      "display_name": "Python 3",
      "language": "python",
      "name": "python3"
    },
    "language_info": {
      "codemirror_mode": {
        "name": "ipython",
        "version": 3
      },
      "file_extension": ".py",
      "mimetype": "text/x-python",
      "name": "python",
      "nbconvert_exporter": "python",
      "pygments_lexer": "ipython3",
      "version": "3.6.3"
    },
    "pycharm": {
      "stem_cell": {
        "cell_type": "raw",
        "metadata": {
          "collapsed": false
        },
        "source": []
      }
    }
  },
  "cells": [
    {
      "cell_type": "markdown",
      "metadata": {
        "id": "view-in-github",
        "colab_type": "text"
      },
      "source": [
        "<a href=\"https://colab.research.google.com/github/sethmnielsen/cs474_labs_f2019/blob/master/DL_Lab1.ipynb\" target=\"_parent\"><img src=\"https://colab.research.google.com/assets/colab-badge.svg\" alt=\"Open In Colab\"/></a>"
      ]
    },
    {
      "cell_type": "markdown",
      "metadata": {
        "colab_type": "text",
        "id": "bkj1_ftQtuBk"
      },
      "source": [
        "# Lab 1: Getting Started\n",
        "\n",
        "## Objective  \n",
        "Get started with colab and python. Begin producing simple visualizations of data and images.\n",
        "\n",
        "## Deliverable\n",
        "For this lab, you will submit a colab notebook via GitHub Classroom. This notebook consists of two parts.\n",
        "\n",
        "___\n",
        "\n",
        "### Grading\n",
        "Your notebook will be graded on the following:\n",
        "* 20% Successfully turning in a notebook with working code\n",
        "* 35% Random image with 50 random elements\n",
        "* 35% Image indicating tensorflow success\n",
        "* 10% Tidy and legible figures, (for the future make sure to label axes where appropriate)\n",
        "\n",
        "___\n",
        "\n",
        "### Details\n",
        "Throughout this class, we will be using Google's colab environment to \n",
        "develop and test our deep neural networks. \n",
        "This consists of ipython notebooks and a standardized python distribution. \n",
        "For this lab, you must create a google account (or use one you already have), \n",
        "start up colab, and write a simple python program in it.\n",
        "\n",
        "As described above, the notebook should do two things: \n",
        "1) generate simple random images, and \n",
        "2) display an image that you generate using the Tensorflow playground.\n",
        "\n",
        "For part 1, you can generate any sort of random image that you want – \n",
        "consider random lines, random curves, random text, etc. \n",
        "Each time the program is run, it should generate a different random image. \n",
        "Your image should have at least 50 random elements \n",
        "(they can all be the same type, such as random lines, and can be created in a loop). \n",
        "We won't count the number of elements; this is just to encourage you to create \n",
        "random images with moderate complexity (ie, you can't just generate randomly colored pixels, \n",
        "as in the example below).\n",
        "\n",
        "For part 2, you should visit the Tensorflow playground (see link above),\n",
        "and play with different settings. Most of it will be unfamiliar,\n",
        "but don't worry – you can't break it!\n",
        "\n",
        "Once you have a working classifier, take a screenshot. \n",
        "Then use your colab notebook to display that image in-line.\n",
        "___\n",
        "### Part 1\n",
        "\n",
        "Your notebook should generate a random image. We will run this notebook 5 times; it should generate 5 different, moderately complex images. Each image should be 512 x 288. Have fun with it!\n",
        "\n",
        "The resulting image could for example something like this:\n",
        "![](http://liftothers.org/dokuwiki/lib/exe/fetch.php?media=cs401r_w2016:lab1.png)\n",
        "\n",
        "**TODO:** // Here are the list of things to do for this part\n",
        "\n",
        "* Generate random images that are 512 x 288\n",
        "\n",
        "**DONE:** // Put items from the TODO list here when you are done with them (double click on the cell, cut and paste the line). This is for your benefit as well as the TAs to help with grading.\n"
      ]
    },
    {
      "cell_type": "code",
      "metadata": {
        "colab_type": "code",
        "id": "CsWiFi74EneB",
        "outputId": "5ef61a15-2224-49a8-ac92-f39e1f7486ae",
        "pycharm": {
          "is_executing": false
        },
        "colab": {
          "base_uri": "https://localhost:8080/",
          "height": 425
        }
      },
      "source": [
        "import IPython.display\n",
        "import PIL.Image\n",
        "import numpy as np\n",
        "import random\n",
        "import cv2\n",
        "\n",
        "# A simple function to display an image in an ipython notebook\n",
        "def nbimage(data):\n",
        "    IPython.display.display(PIL.Image.fromarray(data))\n",
        "\n",
        "# create an image consisting of random colors\n",
        "\n",
        "IMG_WIDTH = 288\n",
        "IMG_HEIGHT = 512\n",
        "\n",
        "data = np.zeros((3,IMG_HEIGHT,IMG_WIDTH), np.uint8) # a 512x512 image, with 3 color channels (R,G,B)\n",
        "\n",
        "num_squares = np.random.randint(1, 3)\n",
        "\n",
        "for i in range(num_squares):\n",
        "    x1 = np.random.randint(IMG_WIDTH-1)\n",
        "    y1 = np.random.randint(IMG_HEIGHT-1)\n",
        "    x2 = np.random.randint(x1, IMG_WIDTH)\n",
        "    y2 = np.random.randint(y1, IMG_HEIGHT)\n",
        "\n",
        "    rgb = np.random.randint(255,size=3)\n",
        "\n",
        "    data[:,y1,x1:x2][:,x2-x1-1] = rgb\n",
        "#     data[:,y1,x1:x2][:,y1] = rgb\n",
        "#     data[:,y2,x1:x2][:,y2] = rgb \n",
        "\n",
        "# by default, rand creates floating point numbers between [0,1].  We need to convert that to 8-bit bytes between [0,255]\n",
        "# data = (255*data).astype(np.uint8)\n",
        "\n",
        "\n",
        "# display it!\n",
        "nbimage(data)"
      ],
      "execution_count": 33,
      "outputs": [
        {
          "output_type": "error",
          "ename": "TypeError",
          "evalue": "ignored",
          "traceback": [
            "\u001b[0;31m---------------------------------------------------------------------------\u001b[0m",
            "\u001b[0;31mKeyError\u001b[0m                                  Traceback (most recent call last)",
            "\u001b[0;32m/usr/local/lib/python3.6/dist-packages/PIL/Image.py\u001b[0m in \u001b[0;36mfromarray\u001b[0;34m(obj, mode)\u001b[0m\n\u001b[1;32m   2415\u001b[0m             \u001b[0mtypekey\u001b[0m \u001b[0;34m=\u001b[0m \u001b[0;34m(\u001b[0m\u001b[0;36m1\u001b[0m\u001b[0;34m,\u001b[0m \u001b[0;36m1\u001b[0m\u001b[0;34m)\u001b[0m \u001b[0;34m+\u001b[0m \u001b[0mshape\u001b[0m\u001b[0;34m[\u001b[0m\u001b[0;36m2\u001b[0m\u001b[0;34m:\u001b[0m\u001b[0;34m]\u001b[0m\u001b[0;34m,\u001b[0m \u001b[0marr\u001b[0m\u001b[0;34m[\u001b[0m\u001b[0;34m'typestr'\u001b[0m\u001b[0;34m]\u001b[0m\u001b[0;34m\u001b[0m\u001b[0;34m\u001b[0m\u001b[0m\n\u001b[0;32m-> 2416\u001b[0;31m             \u001b[0mmode\u001b[0m\u001b[0;34m,\u001b[0m \u001b[0mrawmode\u001b[0m \u001b[0;34m=\u001b[0m \u001b[0m_fromarray_typemap\u001b[0m\u001b[0;34m[\u001b[0m\u001b[0mtypekey\u001b[0m\u001b[0;34m]\u001b[0m\u001b[0;34m\u001b[0m\u001b[0;34m\u001b[0m\u001b[0m\n\u001b[0m\u001b[1;32m   2417\u001b[0m         \u001b[0;32mexcept\u001b[0m \u001b[0mKeyError\u001b[0m\u001b[0;34m:\u001b[0m\u001b[0;34m\u001b[0m\u001b[0;34m\u001b[0m\u001b[0m\n",
            "\u001b[0;31mKeyError\u001b[0m: ((1, 1, 288), '|u1')",
            "\nDuring handling of the above exception, another exception occurred:\n",
            "\u001b[0;31mTypeError\u001b[0m                                 Traceback (most recent call last)",
            "\u001b[0;32m<ipython-input-33-c9404062f9cd>\u001b[0m in \u001b[0;36m<module>\u001b[0;34m()\u001b[0m\n\u001b[1;32m     35\u001b[0m \u001b[0;34m\u001b[0m\u001b[0m\n\u001b[1;32m     36\u001b[0m \u001b[0;31m# display it!\u001b[0m\u001b[0;34m\u001b[0m\u001b[0;34m\u001b[0m\u001b[0;34m\u001b[0m\u001b[0m\n\u001b[0;32m---> 37\u001b[0;31m \u001b[0mnbimage\u001b[0m\u001b[0;34m(\u001b[0m\u001b[0mdata\u001b[0m\u001b[0;34m)\u001b[0m\u001b[0;34m\u001b[0m\u001b[0;34m\u001b[0m\u001b[0m\n\u001b[0m",
            "\u001b[0;32m<ipython-input-33-c9404062f9cd>\u001b[0m in \u001b[0;36mnbimage\u001b[0;34m(data)\u001b[0m\n\u001b[1;32m      7\u001b[0m \u001b[0;31m# A simple function to display an image in an ipython notebook\u001b[0m\u001b[0;34m\u001b[0m\u001b[0;34m\u001b[0m\u001b[0;34m\u001b[0m\u001b[0m\n\u001b[1;32m      8\u001b[0m \u001b[0;32mdef\u001b[0m \u001b[0mnbimage\u001b[0m\u001b[0;34m(\u001b[0m\u001b[0mdata\u001b[0m\u001b[0;34m)\u001b[0m\u001b[0;34m:\u001b[0m\u001b[0;34m\u001b[0m\u001b[0;34m\u001b[0m\u001b[0m\n\u001b[0;32m----> 9\u001b[0;31m     \u001b[0mIPython\u001b[0m\u001b[0;34m.\u001b[0m\u001b[0mdisplay\u001b[0m\u001b[0;34m.\u001b[0m\u001b[0mdisplay\u001b[0m\u001b[0;34m(\u001b[0m\u001b[0mPIL\u001b[0m\u001b[0;34m.\u001b[0m\u001b[0mImage\u001b[0m\u001b[0;34m.\u001b[0m\u001b[0mfromarray\u001b[0m\u001b[0;34m(\u001b[0m\u001b[0mdata\u001b[0m\u001b[0;34m)\u001b[0m\u001b[0;34m)\u001b[0m\u001b[0;34m\u001b[0m\u001b[0;34m\u001b[0m\u001b[0m\n\u001b[0m\u001b[1;32m     10\u001b[0m \u001b[0;34m\u001b[0m\u001b[0m\n\u001b[1;32m     11\u001b[0m \u001b[0;31m# create an image consisting of random colors\u001b[0m\u001b[0;34m\u001b[0m\u001b[0;34m\u001b[0m\u001b[0;34m\u001b[0m\u001b[0m\n",
            "\u001b[0;32m/usr/local/lib/python3.6/dist-packages/PIL/Image.py\u001b[0m in \u001b[0;36mfromarray\u001b[0;34m(obj, mode)\u001b[0m\n\u001b[1;32m   2417\u001b[0m         \u001b[0;32mexcept\u001b[0m \u001b[0mKeyError\u001b[0m\u001b[0;34m:\u001b[0m\u001b[0;34m\u001b[0m\u001b[0;34m\u001b[0m\u001b[0m\n\u001b[1;32m   2418\u001b[0m             \u001b[0;31m# print(typekey)\u001b[0m\u001b[0;34m\u001b[0m\u001b[0;34m\u001b[0m\u001b[0;34m\u001b[0m\u001b[0m\n\u001b[0;32m-> 2419\u001b[0;31m             \u001b[0;32mraise\u001b[0m \u001b[0mTypeError\u001b[0m\u001b[0;34m(\u001b[0m\u001b[0;34m\"Cannot handle this data type\"\u001b[0m\u001b[0;34m)\u001b[0m\u001b[0;34m\u001b[0m\u001b[0;34m\u001b[0m\u001b[0m\n\u001b[0m\u001b[1;32m   2420\u001b[0m     \u001b[0;32melse\u001b[0m\u001b[0;34m:\u001b[0m\u001b[0;34m\u001b[0m\u001b[0;34m\u001b[0m\u001b[0m\n\u001b[1;32m   2421\u001b[0m         \u001b[0mrawmode\u001b[0m \u001b[0;34m=\u001b[0m \u001b[0mmode\u001b[0m\u001b[0;34m\u001b[0m\u001b[0;34m\u001b[0m\u001b[0m\n",
            "\u001b[0;31mTypeError\u001b[0m: Cannot handle this data type"
          ]
        }
      ]
    },
    {
      "cell_type": "markdown",
      "metadata": {
        "colab_type": "text",
        "id": "fM3h46ZAucnV"
      },
      "source": [
        "\n",
        "___\n",
        "\n",
        "### Part 2\n",
        "\n",
        "You must play with the Tensorflow playground neural network, and figure out how to create a classifier that successfully classifies the “spiral” dataset.\n",
        "\n",
        "\n",
        "[Tensorflow playground](http://playground.tensorflow.org/)\n",
        "\n",
        "[Google colab](http://colab.research.google.com/) The site where you will probably be coding the labs\n",
        "\n",
        "[A colab notebook teaching you how to use colab notebooks](https://colab.research.google.com/drive/1TzaPS3jvRadN-URLbQ9nD1ZNoZktfNRy)\n",
        "\n",
        "[Various colab tutorials](https://sites.google.com/site/artml2018/tutorials)\n",
        "\n",
        "**TODO:**\n",
        "* Create a classifier that successfully classifies the \"spiral\" dataset\n",
        "* Display the image below\n",
        "\n",
        "**DONE:**\n"
      ]
    },
    {
      "cell_type": "markdown",
      "metadata": {
        "colab_type": "text",
        "id": "jBNhAh2hTMfi"
      },
      "source": [
        "![Image](Put the url to the image here)\n"
      ]
    }
  ]
}